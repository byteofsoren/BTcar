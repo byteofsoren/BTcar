{
 "cells": [
  {
   "cell_type": "code",
   "execution_count": 1,
   "metadata": {},
   "outputs": [],
   "source": [
    "import serial\n",
    "import struct\n",
    "import subprocess\n",
    "from time import sleep\n",
    "from ipywidgets import widgets\n",
    "from IPython.display import display"
   ]
  },
  {
   "cell_type": "markdown",
   "metadata": {},
   "source": [
    "# Serial comunications script.\n",
    "This program is written to test the serial inteface of the BTcar using just the serial inteface. \n",
    "Perhaps in the future this could be done over BT insetad of USB."
   ]
  },
  {
   "cell_type": "code",
   "execution_count": 5,
   "metadata": {},
   "outputs": [
    {
     "name": "stdout",
     "output_type": "stream",
     "text": [
      "port: /dev/ttyACM1 is found\n",
      "Starting serial\n",
      "done\n"
     ]
    }
   ],
   "source": [
    "# prot is the port that the dev is avaible on.\n",
    "port = '/dev/ttyACM0'  # run pio device list to get this.\n",
    "port = subprocess.getstatusoutput(\"pio device list | grep ttyACM | grep dev\")[1]\n",
    "print(\"port: {} is found\\nStarting serial\".format(port))\n",
    "ser = serial.Serial(port)\n",
    "print(\"done\")"
   ]
  },
  {
   "cell_type": "code",
   "execution_count": 6,
   "metadata": {},
   "outputs": [
    {
     "name": "stdout",
     "output_type": "stream",
     "text": [
      " b'S'b't'b'a'b'r'b't'b' 'b's'b'y'b's'b't'b'e'b'm'b'\\r'b'\\n'\n"
     ]
    }
   ],
   "source": [
    "#ser = serial.Serial(port)\n",
    "#ser.port = port\n",
    "#ser.open()\n",
    "#ser.baudrate = 9600\n",
    "#ser.timeout = 1\n",
    "#ser.setDTR(False)\n",
    "#ser.setRTS(False)\n",
    "#ser.open()\n",
    "sleep(0.5)\n",
    "t = '  '\n",
    "ready_text = ' '\n",
    "while t != b'\\n':\n",
    "    t = ser.read(1)\n",
    "    ready_text += str(t)\n",
    "    #print(t)\n",
    "print(ready_text)"
   ]
  },
  {
   "cell_type": "code",
   "execution_count": 7,
   "metadata": {},
   "outputs": [
    {
     "name": "stdout",
     "output_type": "stream",
     "text": [
      "sent: b'K\\x14d' or (75, 20, 100)\n",
      "1\n",
      "(100,)\n",
      "sent: b'\\x00\\x1ed' or (0, 30, 100)\n",
      "1\n",
      "(100,)\n",
      "sent: b'\\x14\\x00d' or (20, 0, 100)\n",
      "1\n",
      "(100,)\n",
      "sent: b'\\x14(d' or (20, 40, 100)\n",
      "1\n",
      "(100,)\n",
      "sent: b'Z(d' or (90, 40, 100)\n",
      "1\n",
      "(100,)\n",
      "sent: b'\\x14\\x00d' or (20, 0, 100)\n",
      "1\n",
      "(100,)\n",
      "sent: b'\\x7f\\x7fd' or (127, 127, 100)\n",
      "0\n",
      "(100,)\n"
     ]
    }
   ],
   "source": [
    "def send_control(motor=0, steering=0):\n",
    "    temp = struct.pack('>3B',motor,steering,100)\n",
    "    ser.write(temp)\n",
    "    print(\"sent: {} or {}\".format(temp,struct.unpack('>3B',temp)))\n",
    "    sleep(0.1)\n",
    "    print(ser.inWaiting())\n",
    "    print(struct.unpack('>B',ser.read(1)))\n",
    "\n",
    "# Test case\n",
    "send_control(75,20)\n",
    "sleep(1)\n",
    "send_control(0,30)\n",
    "sleep(1)\n",
    "send_control(20,0)\n",
    "sleep(1)\n",
    "send_control(20,40)\n",
    "sleep(1)\n",
    "send_control(90,40)\n",
    "sleep(1)\n",
    "send_control(20,0)\n",
    "sleep(1)\n",
    "\n",
    "send_control(127,127)"
   ]
  },
  {
   "cell_type": "code",
   "execution_count": 8,
   "metadata": {},
   "outputs": [
    {
     "data": {
      "text/plain": [
       "50000"
      ]
     },
     "execution_count": 8,
     "metadata": {},
     "output_type": "execute_result"
    }
   ],
   "source": [
    "x = 100\n",
    "y = 200\n",
    "x*x + y*y "
   ]
  },
  {
   "cell_type": "code",
   "execution_count": null,
   "metadata": {},
   "outputs": [],
   "source": []
  }
 ],
 "metadata": {
  "kernelspec": {
   "display_name": "Python 3",
   "language": "python",
   "name": "python3"
  },
  "language_info": {
   "codemirror_mode": {
    "name": "ipython",
    "version": 3
   },
   "file_extension": ".py",
   "mimetype": "text/x-python",
   "name": "python",
   "nbconvert_exporter": "python",
   "pygments_lexer": "ipython3",
   "version": "3.7.1"
  }
 },
 "nbformat": 4,
 "nbformat_minor": 2
}
