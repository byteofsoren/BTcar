{
 "cells": [
  {
   "cell_type": "code",
   "execution_count": 1,
   "metadata": {},
   "outputs": [],
   "source": [
    "import serial\n",
    "import struct\n",
    "import subprocess\n",
    "from time import sleep\n",
    "from ipywidgets import widgets\n",
    "from IPython.display import display"
   ]
  },
  {
   "cell_type": "markdown",
   "metadata": {},
   "source": [
    "# Serial comunications script.\n",
    "This program is written to test the serial inteface of the BTcar using just the serial inteface. \n",
    "Perhaps in the future this could be done over BT insetad of USB."
   ]
  },
  {
   "cell_type": "code",
   "execution_count": 5,
   "metadata": {},
   "outputs": [
    {
     "name": "stdout",
     "output_type": "stream",
     "text": [
      "port: /dev/ttyACM1 is found\n",
      "Starting serial\n",
      "done\n"
     ]
    }
   ],
   "source": [
    "# prot is the port that the dev is avaible on.\n",
    "port = '/dev/ttyACM0'  # run pio device list to get this.\n",
    "port = subprocess.getstatusoutput(\"pio device list | grep ttyACM | grep dev\")[1]\n",
    "print(\"port: {} is found\\nStarting serial\".format(port))\n",
    "ser = serial.Serial(port)\n",
    "print(\"done\")"
   ]
  },
  {
   "cell_type": "code",
   "execution_count": 6,
   "metadata": {},
   "outputs": [
    {
     "name": "stdout",
     "output_type": "stream",
     "text": [
      " b'S'b't'b'a'b'r'b't'b' 'b's'b'y'b's'b't'b'e'b'm'b'\\r'b'\\n'\n"
     ]
    }
   ],
   "source": [
    "#ser = serial.Serial(port)\n",
    "#ser.port = port\n",
    "#ser.open()\n",
    "#ser.baudrate = 9600\n",
    "#ser.timeout = 1\n",
    "#ser.setDTR(False)\n",
    "#ser.setRTS(False)\n",
    "#ser.open()\n"
   ]
  },
  {
   "cell_type": "code",
   "execution_count": 13,
   "metadata": {},
   "outputs": [
    {
     "name": "stdout",
     "output_type": "stream",
     "text": [
      "OK\n"
     ]
    }
   ],
   "source": [
    "def gen_flags(enable_system,enable_steering,enable_motor):\n",
    "    temp = 0\n",
    "    temp += 1 if enable_motor else 0\n",
    "    temp += 2 * ( 1 if enable_steering else 0)\n",
    "    temp += 4 * ( 1 if enable_system else 0)\n",
    "    return temp\n",
    "\n",
    "# Test\n",
    "assert(gen_flags(False,False,False) == 0)\n",
    "assert(gen_flags(False,False,True) == 1)\n",
    "assert(gen_flags(False,True,False) == 2)\n",
    "assert(gen_flags(True,False,False) == 4)\n",
    "assert(gen_flags(False,True,True) == 3)\n",
    "print(\"OK\")"
   ]
  },
  {
   "cell_type": "code",
   "execution_count": null,
   "metadata": {},
   "outputs": [],
   "source": [
    "def establish_control():\n",
    "    flags = 255\n",
    "    ser.write(struct.pack('>1B', flags))\n",
    "    while( ser.in_waiting() > 0):\n",
    "        print(\"Whaiting\")\n",
    "    if (struct.unpack('>1B',ser.read(1)) == flags):\n",
    "        print(\"Connected state CAR_INIT\")\n",
    "    else:\n",
    "        return -1\n",
    "    \n",
    "    \n",
    "    \n",
    "    print(ser.read(1))\n",
    "    "
   ]
  },
  {
   "cell_type": "code",
   "execution_count": 7,
   "metadata": {},
   "outputs": [
    {
     "name": "stdout",
     "output_type": "stream",
     "text": [
      "sent: b'K\\x14d' or (75, 20, 100)\n",
      "1\n",
      "(100,)\n",
      "sent: b'\\x00\\x1ed' or (0, 30, 100)\n",
      "1\n",
      "(100,)\n",
      "sent: b'\\x14\\x00d' or (20, 0, 100)\n",
      "1\n",
      "(100,)\n",
      "sent: b'\\x14(d' or (20, 40, 100)\n",
      "1\n",
      "(100,)\n",
      "sent: b'Z(d' or (90, 40, 100)\n",
      "1\n",
      "(100,)\n",
      "sent: b'\\x14\\x00d' or (20, 0, 100)\n",
      "1\n",
      "(100,)\n",
      "sent: b'\\x7f\\x7fd' or (127, 127, 100)\n",
      "0\n",
      "(100,)\n"
     ]
    }
   ],
   "source": [
    "def send_control(motor=0, steering=0):\n",
    "    temp = struct.pack('>3B',motor,steering,100)\n",
    "    ser.write(temp)\n",
    "    print(\"sent: {} or {}\".format(temp,struct.unpack('>3B',temp)))\n",
    "    sleep(0.1)\n",
    "    print(ser.inWaiting())\n",
    "    print(struct.unpack('>B',ser.read(1)))\n",
    "\n",
    "# Test case\n",
    "send_control(75,20)\n",
    "sleep(1)\n",
    "send_control(0,30)\n",
    "sleep(1)\n",
    "send_control(20,0)\n",
    "sleep(1)\n",
    "send_control(20,40)\n",
    "sleep(1)\n",
    "send_control(90,40)\n",
    "sleep(1)\n",
    "send_control(20,0)\n",
    "sleep(1)\n",
    "\n",
    "send_control(127,127)"
   ]
  },
  {
   "cell_type": "code",
   "execution_count": 8,
   "metadata": {},
   "outputs": [
    {
     "data": {
      "text/plain": [
       "50000"
      ]
     },
     "execution_count": 8,
     "metadata": {},
     "output_type": "execute_result"
    }
   ],
   "source": [
    "x = 100\n",
    "y = 200\n",
    "x*x + y*y "
   ]
  },
  {
   "cell_type": "code",
   "execution_count": 16,
   "metadata": {},
   "outputs": [
    {
     "name": "stdout",
     "output_type": "stream",
     "text": [
      "3\n",
      "4\n",
      "<__main__.flags object at 0x7f4ca0e1e940>\n"
     ]
    }
   ],
   "source": [
    "class flags(object):\n",
    "    def __init__(self, a ,b):\n",
    "        self.a = a\n",
    "        self.b = b\n",
    "    \n",
    "    def getSum(self):\n",
    "        return self.a + self.b\n",
    "    \n",
    "    def __string__(self):\n",
    "        return str(self.a + self.b)\n",
    "        \n",
    "\n",
    "class test(object):\n",
    "    def __init__(self,a,b):\n",
    "        self.flags = flags(a,b)\n",
    "\n",
    "        \n",
    "    def show(self):\n",
    "        print(self.flags.a)\n",
    "        print(self.flags.b)\n",
    "        print(self.flags)\n",
    "        \n",
    "        \n",
    "t = test(3,4)\n",
    "t.show()"
   ]
  },
  {
   "cell_type": "code",
   "execution_count": 18,
   "metadata": {},
   "outputs": [],
   "source": [
    "dec2bin = lambda x: (dec2bin(x/2) + str(x%2)) if x else ''"
   ]
  },
  {
   "cell_type": "code",
   "execution_count": 27,
   "metadata": {},
   "outputs": [],
   "source": [
    "dec2bin = lambda i: [x for x in range(8) if i > 2**x ]"
   ]
  },
  {
   "cell_type": "code",
   "execution_count": 29,
   "metadata": {},
   "outputs": [
    {
     "data": {
      "text/plain": [
       "[0, 1, 2]"
      ]
     },
     "execution_count": 29,
     "metadata": {},
     "output_type": "execute_result"
    }
   ],
   "source": [
    "dec2bin(6)"
   ]
  },
  {
   "cell_type": "code",
   "execution_count": 31,
   "metadata": {},
   "outputs": [
    {
     "data": {
      "text/plain": [
       "True"
      ]
     },
     "execution_count": 31,
     "metadata": {},
     "output_type": "execute_result"
    }
   ],
   "source": [
    "bool(3)"
   ]
  },
  {
   "cell_type": "code",
   "execution_count": 32,
   "metadata": {},
   "outputs": [],
   "source": [
    "from bitarray import bitarray"
   ]
  },
  {
   "cell_type": "code",
   "execution_count": 33,
   "metadata": {},
   "outputs": [
    {
     "data": {
      "text/plain": [
       "True"
      ]
     },
     "execution_count": 33,
     "metadata": {},
     "output_type": "execute_result"
    }
   ],
   "source": [
    "bitarray(3)[0]"
   ]
  },
  {
   "cell_type": "code",
   "execution_count": 64,
   "metadata": {},
   "outputs": [
    {
     "data": {
      "text/plain": [
       "False"
      ]
     },
     "execution_count": 64,
     "metadata": {},
     "output_type": "execute_result"
    }
   ],
   "source": [
    "def is_bit_set(nr: int, bitnr:int):\n",
    "    if nr & (1 << bitnr):\n",
    "        return True\n",
    "    return False\n",
    "\n",
    "is_bit_set(6,0)"
   ]
  },
  {
   "cell_type": "code",
   "execution_count": 48,
   "metadata": {},
   "outputs": [
    {
     "ename": "TypeError",
     "evalue": "a bytes-like object is required, not 'bitarray'",
     "output_type": "error",
     "traceback": [
      "\u001b[0;31m---------------------------------------------------------------------------\u001b[0m",
      "\u001b[0;31mTypeError\u001b[0m                                 Traceback (most recent call last)",
      "\u001b[0;32m<ipython-input-48-caa446112f93>\u001b[0m in \u001b[0;36m<module>\u001b[0;34m\u001b[0m\n\u001b[1;32m      3\u001b[0m \u001b[0;34m\u001b[0m\u001b[0m\n\u001b[1;32m      4\u001b[0m \u001b[0md\u001b[0m\u001b[0;34m[\u001b[0m\u001b[0;36m5\u001b[0m\u001b[0;34m]\u001b[0m \u001b[0;34m=\u001b[0m \u001b[0;36m1\u001b[0m\u001b[0;34m\u001b[0m\u001b[0;34m\u001b[0m\u001b[0m\n\u001b[0;32m----> 5\u001b[0;31m \u001b[0mprint\u001b[0m\u001b[0;34m(\u001b[0m\u001b[0mstruct\u001b[0m\u001b[0;34m.\u001b[0m\u001b[0munpack\u001b[0m\u001b[0;34m(\u001b[0m\u001b[0;34m\"<L\"\u001b[0m\u001b[0;34m,\u001b[0m \u001b[0md\u001b[0m\u001b[0;34m)\u001b[0m\u001b[0;34m[\u001b[0m\u001b[0;36m0\u001b[0m\u001b[0;34m]\u001b[0m\u001b[0;34m)\u001b[0m\u001b[0;34m\u001b[0m\u001b[0;34m\u001b[0m\u001b[0m\n\u001b[0m",
      "\u001b[0;31mTypeError\u001b[0m: a bytes-like object is required, not 'bitarray'"
     ]
    }
   ],
   "source": [
    "\n",
    "d = bitarray('0' * 30, endian='little')\n",
    "\n",
    "d[5] = 1\n",
    "print(struct.unpack(\"<L\", d)[0])"
   ]
  },
  {
   "cell_type": "code",
   "execution_count": 49,
   "metadata": {},
   "outputs": [],
   "source": [
    "d=bitarray('0'*30)\n",
    "d[5]=1\n",
    "\n",
    "i = 0\n",
    "for bit in d:\n",
    "    i = (i << 1) | bit"
   ]
  },
  {
   "cell_type": "code",
   "execution_count": 50,
   "metadata": {},
   "outputs": [
    {
     "data": {
      "text/plain": [
       "16777216"
      ]
     },
     "execution_count": 50,
     "metadata": {},
     "output_type": "execute_result"
    }
   ],
   "source": [
    "i"
   ]
  },
  {
   "cell_type": "code",
   "execution_count": 52,
   "metadata": {},
   "outputs": [
    {
     "data": {
      "text/plain": [
       "bitarray('000001000000000000000000000000')"
      ]
     },
     "execution_count": 52,
     "metadata": {},
     "output_type": "execute_result"
    }
   ],
   "source": [
    "d"
   ]
  },
  {
   "cell_type": "code",
   "execution_count": 61,
   "metadata": {},
   "outputs": [
    {
     "name": "stdout",
     "output_type": "stream",
     "text": [
      "bitarray('11010')\n",
      "True\n",
      "True\n",
      "False\n",
      "True\n",
      "False\n",
      "26\n",
      "26\n"
     ]
    }
   ],
   "source": [
    "def bittoInt(dig):\n",
    "    i = 0\n",
    "    for bit in dig:\n",
    "        print(bit)\n",
    "        i = (i << 1) | bit\n",
    "    return i\n",
    "\n",
    "d = bitarray(5)\n",
    "print(d)\n",
    "print(bittoInt(d))\n",
    "print(int(d.to01(),2))"
   ]
  },
  {
   "cell_type": "code",
   "execution_count": null,
   "metadata": {},
   "outputs": [],
   "source": []
  }
 ],
 "metadata": {
  "kernelspec": {
   "display_name": "Python 3",
   "language": "python",
   "name": "python3"
  },
  "language_info": {
   "codemirror_mode": {
    "name": "ipython",
    "version": 3
   },
   "file_extension": ".py",
   "mimetype": "text/x-python",
   "name": "python",
   "nbconvert_exporter": "python",
   "pygments_lexer": "ipython3",
   "version": "3.7.1"
  }
 },
 "nbformat": 4,
 "nbformat_minor": 2
}
